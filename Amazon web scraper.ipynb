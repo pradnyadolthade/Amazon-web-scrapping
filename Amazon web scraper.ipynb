{
 "cells": [
  {
   "cell_type": "code",
   "execution_count": 1,
   "id": "dc151f59-676f-46e0-95c4-f3db4ee85d84",
   "metadata": {},
   "outputs": [],
   "source": [
    "#import libraries \n",
    "\n",
    "from bs4 import BeautifulSoup\n",
    "import requests\n",
    "import time\n",
    "import datetime\n",
    "import smtplib"
   ]
  },
  {
   "cell_type": "code",
   "execution_count": 2,
   "id": "b367ffaf-6b05-46d4-b163-59996ac1f3f2",
   "metadata": {},
   "outputs": [],
   "source": [
    "# Connect to website \n",
    "\n",
    "URL = \"https://www.amazon.in/Data-Analytics-2nd-Anil-Maheshwari/dp/9355324553/ref=sr_1_1?crid=GO4CPL7B7TGV&dib=eyJ2IjoiMSJ9.rzv9k2EJlaCKYm8ldP_6d_cjF0eVSMSWLzz2G5wGR5oU49JthdVn5nVd1j-3GhloSEDp4wBA8ixzuxSXpzM1d3w3UP0ZxaLJAbMoZoOTgqKpzcOvg161n0OOmriTrTbKxwtIl8J66Q6QPhFNDuLvysDHZ_bkexC7he5UUKqyTSUDZ2HnboAgIv31RQ_3Z6x1CvarNtSvrZw0xq7b3FWxG1p7SkKEhCgvYiAedWT33MQ.CRZsqo_Ahf2AmHp73oqdrEkJbPRkYeFyVjtIF4sTtxo&dib_tag=se&keywords=data+analyst+books&qid=1710586518&sprefix=data+anal%2Caps%2C753&sr=8-1\"\n",
    "\n",
    "headers = {\"User-Agent\": \"Mozilla/5.0 (Windows NT 10.0; Win64; x64) AppleWebKit/537.36 (KHTML, like Gecko) Chrome/122.0.0.0 Safari/537.36\"}\n",
    "\n",
    "page = requests.get(URL, headers= headers)\n",
    "\n",
    "soup1 = BeautifulSoup(page.content, \"html.parser\")\n",
    "\n",
    "soup2 = BeautifulSoup(soup1.prettify(), \"html.parser\")\n",
    "\n",
    "title = soup2.find(id='productTitle').get_text()\n",
    "price = soup2.find(id = 'price').get_text()\n",
    "\n",
    "\n",
    "#print(title)\n",
    "#print(price)\n"
   ]
  },
  {
   "cell_type": "code",
   "execution_count": 3,
   "id": "d2a99b17-9857-480b-9ed7-0c19bd99d8c9",
   "metadata": {},
   "outputs": [
    {
     "name": "stdout",
     "output_type": "stream",
     "text": [
      "519.00\n",
      "Data Analytics | 2nd Edition\n"
     ]
    }
   ],
   "source": [
    "price = price.strip()[1:]\n",
    "title  = title.strip()\n",
    "\n",
    "print(price)\n",
    "print(title)\n"
   ]
  },
  {
   "cell_type": "code",
   "execution_count": 5,
   "id": "0c3ffbb1-6ead-43b5-ad62-c864c734730e",
   "metadata": {},
   "outputs": [],
   "source": [
    "import datetime\n",
    "today = datetime.date.today()"
   ]
  },
  {
   "cell_type": "code",
   "execution_count": 6,
   "id": "418d998b-96cf-4874-af96-05da1f6e5754",
   "metadata": {},
   "outputs": [],
   "source": [
    "import csv\n",
    "\n",
    "header = ['Title', 'Price','Date']\n",
    "data = [title, price, today]\n",
    "\n",
    "with open(\"AmazoneSrapper.csv\",'w', newline='' ,encoding='UTF') as f:\n",
    "    writer = csv.writer(f)\n",
    "    writer.writerow(header)\n",
    "    writer.writerow(data)\n",
    "\n"
   ]
  },
  {
   "cell_type": "code",
   "execution_count": 7,
   "id": "35c68269-fd20-4383-b0a9-4ad40e516729",
   "metadata": {},
   "outputs": [
    {
     "name": "stdout",
     "output_type": "stream",
     "text": [
      "                          Title  Price        Date\n",
      "0  Data Analytics | 2nd Edition  519.0  2024-03-16\n"
     ]
    }
   ],
   "source": [
    "import pandas as pd\n",
    "df = pd.read_csv(r'C:\\Users\\Admin\\Projects\\Jupyter-Projects\\Amazone web scrapping and analysis\\AmazoneSrapper.csv')\n",
    "print(df)"
   ]
  },
  {
   "cell_type": "code",
   "execution_count": 8,
   "id": "14fbeaf6-845e-46a4-b5f3-cbc5e23367b1",
   "metadata": {},
   "outputs": [],
   "source": [
    "#Now we are appending the data\n",
    "\n",
    "with open(\"AmazoneSrapper.csv\",'a+', newline='' ,encoding='UTF') as f:\n",
    "    writer = csv.writer(f)\n",
    "    writer.writerow(data)\n",
    "\n",
    "\n"
   ]
  },
  {
   "cell_type": "code",
   "execution_count": 9,
   "id": "cd9640fd-a428-459f-8e40-9e616a56d065",
   "metadata": {},
   "outputs": [],
   "source": [
    "\n",
    "def check_price():\n",
    "    \n",
    "    URL = \"https://www.amazon.in/Data-Analytics-2nd-Anil-Maheshwari/dp/9355324553/ref=sr_1_1?crid=GO4CPL7B7TGV&dib=eyJ2IjoiMSJ9.rzv9k2EJlaCKYm8ldP_6d_cjF0eVSMSWLzz2G5wGR5oU49JthdVn5nVd1j-3GhloSEDp4wBA8ixzuxSXpzM1d3w3UP0ZxaLJAbMoZoOTgqKpzcOvg161n0OOmriTrTbKxwtIl8J66Q6QPhFNDuLvysDHZ_bkexC7he5UUKqyTSUDZ2HnboAgIv31RQ_3Z6x1CvarNtSvrZw0xq7b3FWxG1p7SkKEhCgvYiAedWT33MQ.CRZsqo_Ahf2AmHp73oqdrEkJbPRkYeFyVjtIF4sTtxo&dib_tag=se&keywords=data+analyst+books&qid=1710586518&sprefix=data+anal%2Caps%2C753&sr=8-1\"\n",
    "\n",
    "    headers = {\"User-Agent\": \"Mozilla/5.0 (Windows NT 10.0; Win64; x64) AppleWebKit/537.36 (KHTML, like Gecko) Chrome/122.0.0.0 Safari/537.36\"}\n",
    "\n",
    "    page = requests.get(URL, headers= headers)\n",
    "\n",
    "    soup1 = BeautifulSoup(page.content, \"html.parser\")\n",
    "\n",
    "    soup2 = BeautifulSoup(soup1.prettify(), \"html.parser\")\n",
    "\n",
    "    title = soup2.find(id='productTitle').get_text()\n",
    "    price = soup2.find(id = 'price').get_text()\n",
    "\n",
    "    price = price.strip()[1:]\n",
    "    title  = title.strip()\n",
    "    import datetime\n",
    "    today = datetime.date.today()\n",
    "\n",
    "    import csv\n",
    "\n",
    "    header = ['Title', 'Price','Date']\n",
    "    data = [title, price, today]\n",
    "    with open(\"AmazoneSrapper.csv\",'a+', newline='' ,encoding='UTF') as f:\n",
    "        writer = csv.writer(f)\n",
    "        writer.writerow(data)\n",
    "   # if float(price)>500:\n",
    "   #    send_mail()\n",
    "    "
   ]
  },
  {
   "cell_type": "code",
   "execution_count": null,
   "id": "54a12b70-9963-48f2-9b62-afe5469be047",
   "metadata": {},
   "outputs": [],
   "source": [
    "\n",
    "def send_mail():\n",
    "    server = smtplib.SMTP_SSL('smtp.gmail.com',465)\n",
    "    server.ehlo()\n",
    "    #server.starttls()\n",
    "    server.ehlo()\n",
    "    server.login(pradnyadolthade236@gmail.com,'xxxxxxxx')\n",
    "    \n",
    "    subject = \"The book you want is below 500rs! Now is your chance to buy!\"\n",
    "    body = \"Pradnya, This is the moment we have been waiting for. Now is your chance to pick up the shirt of your dreams. Don't mess it up! Link here: https://www.amazon.in/Data-Analytics-2nd-Anil-Maheshwari/dp/9355324553/ref=sr_1_1?crid=GO4CPL7B7TGV&dib=eyJ2IjoiMSJ9.rzv9k2EJlaCKYm8ldP_6d_cjF0eVSMSWLzz2G5wGR5oU49JthdVn5nVd1j-3GhloSEDp4wBA8ixzuxSXpzM1d3w3UP0ZxaLJAbMoZoOTgqKpzcOvg161n0OOmriTrTbKxwtIl8J66Q6QPhFNDuLvysDHZ_bkexC7he5UUKqyTSUDZ2HnboAgIv31RQ_3Z6x1CvarNtSvrZw0xq7b3FWxG1p7SkKEhCgvYiAedWT33MQ.CRZsqo_Ahf2AmHp73oqdrEkJbPRkYeFyVjtIF4sTtxo&dib_tag=se&keywords=data+analyst+books&qid=1710586518&sprefix=data+anal%2Caps%2C753&sr=8-1\"\n",
    "    \n",
    "    msg = f\"Subject: {subject}\\n\\n{body}\"\n",
    "    \n",
    "    server.sendmail(\n",
    "        'pradnyadolthade236@gmail.com',\n",
    "        msg\n",
    "     \n",
    "    )"
   ]
  },
  {
   "cell_type": "code",
   "execution_count": null,
   "id": "f859eb04-009d-416b-95d7-edc1db5a8372",
   "metadata": {},
   "outputs": [],
   "source": [
    "while(True):\n",
    "    check_price()\n",
    "    time.sleep(86400)"
   ]
  },
  {
   "cell_type": "code",
   "execution_count": null,
   "id": "6350aeb1-1cf7-4b2f-b8de-125328683752",
   "metadata": {},
   "outputs": [],
   "source": [
    "import pandas as pd\n",
    "df = pd.read_csv(r'C:\\Users\\Admin\\Projects\\Jupyter-Projects\\Amazone web scrapping and analysis\\AmazoneSrapper.csv')\n",
    "print(df)"
   ]
  },
  {
   "cell_type": "code",
   "execution_count": null,
   "id": "a7c9b64d-7295-4e2a-8c4b-af3c355c6461",
   "metadata": {},
   "outputs": [],
   "source": []
  },
  {
   "cell_type": "code",
   "execution_count": null,
   "id": "41887d2c-95a4-462a-b223-ca246029fe09",
   "metadata": {},
   "outputs": [],
   "source": []
  }
 ],
 "metadata": {
  "kernelspec": {
   "display_name": "Python 3 (ipykernel)",
   "language": "python",
   "name": "python3"
  },
  "language_info": {
   "codemirror_mode": {
    "name": "ipython",
    "version": 3
   },
   "file_extension": ".py",
   "mimetype": "text/x-python",
   "name": "python",
   "nbconvert_exporter": "python",
   "pygments_lexer": "ipython3",
   "version": "3.11.7"
  }
 },
 "nbformat": 4,
 "nbformat_minor": 5
}
